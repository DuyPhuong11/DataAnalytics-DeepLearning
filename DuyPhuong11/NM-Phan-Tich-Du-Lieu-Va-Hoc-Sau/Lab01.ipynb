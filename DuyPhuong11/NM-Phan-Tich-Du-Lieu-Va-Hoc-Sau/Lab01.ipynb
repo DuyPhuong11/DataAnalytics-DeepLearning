{
  "nbformat": 4,
  "nbformat_minor": 0,
  "metadata": {
    "colab": {
      "name": "Lab01.ipynb",
      "provenance": [],
      "authorship_tag": "ABX9TyPvkl2gpEUaqCl+Xaraecql",
      "include_colab_link": true
    },
    "kernelspec": {
      "name": "python3",
      "display_name": "Python 3"
    },
    "language_info": {
      "name": "python"
    }
  },
  "cells": [
    {
      "cell_type": "markdown",
      "metadata": {
        "id": "view-in-github",
        "colab_type": "text"
      },
      "source": [
        "<a href=\"https://colab.research.google.com/github/DuyPhuong11/NM-Phan-Tich-Du-Lieu-Va-Hoc-Sau/blob/main/DuyPhuong11/NM-Phan-Tich-Du-Lieu-Va-Hoc-Sau/Lab01.ipynb\" target=\"_parent\"><img src=\"https://colab.research.google.com/assets/colab-badge.svg\" alt=\"Open In Colab\"/></a>"
      ]
    },
    {
      "cell_type": "code",
      "execution_count": 2,
      "metadata": {
        "colab": {
          "base_uri": "https://localhost:8080/"
        },
        "id": "Ct94HkkFdacu",
        "outputId": "3e9c02a0-fe4a-44a2-ec49-9ab19628b6c4"
      },
      "outputs": [
        {
          "output_type": "stream",
          "name": "stdout",
          "text": [
            "Lấy 1 cột T1:\n",
            " STT\n",
            "1      7.2\n",
            "2      5.4\n",
            "3      5.6\n",
            "4      6.6\n",
            "5      6.0\n",
            "      ... \n",
            "96     8.6\n",
            "97     3.7\n",
            "98     8.8\n",
            "99     2.7\n",
            "100    4.1\n",
            "Name: T1, Length: 100, dtype: float64\n"
          ]
        }
      ],
      "source": [
        "import pandas as pd\n",
        "import numpy as np\n",
        "df = pd.read_csv (\"/content/dulieuxettuyendaihoc.csv\", index_col = \"STT\")\n",
        "print (\"Lấy 1 cột T1:\\n\", df['T1'])#series\n",
        "exit ()\n"
      ]
    }
  ]
}